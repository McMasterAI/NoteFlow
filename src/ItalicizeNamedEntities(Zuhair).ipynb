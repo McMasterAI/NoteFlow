{
 "cells": [
  {
   "cell_type": "code",
   "execution_count": 1,
   "id": "b2d421a6",
   "metadata": {
    "scrolled": false
   },
   "outputs": [
    {
     "name": "stderr",
     "output_type": "stream",
     "text": [
      "c:\\Users\\The-M-Factor\\AppData\\Local\\Programs\\Python\\Python39\\lib\\site-packages\\cupy\\_environment.py:216: UserWarning: CUDA path could not be detected. Set CUDA_PATH environment variable if CuPy fails to load.\n",
      "  warnings.warn(\n",
      "c:\\Users\\The-M-Factor\\AppData\\Local\\Programs\\Python\\Python39\\lib\\site-packages\\cupy\\_environment.py:216: UserWarning: CUDA path could not be detected. Set CUDA_PATH environment variable if CuPy fails to load.\n",
      "  warnings.warn(\n",
      "c:\\Users\\The-M-Factor\\AppData\\Local\\Programs\\Python\\Python39\\lib\\site-packages\\cupy\\_environment.py:216: UserWarning: CUDA path could not be detected. Set CUDA_PATH environment variable if CuPy fails to load.\n",
      "  warnings.warn(\n",
      "c:\\Users\\The-M-Factor\\AppData\\Local\\Programs\\Python\\Python39\\lib\\site-packages\\cupy\\_environment.py:216: UserWarning: CUDA path could not be detected. Set CUDA_PATH environment variable if CuPy fails to load.\n",
      "  warnings.warn(\n",
      "c:\\Users\\The-M-Factor\\AppData\\Local\\Programs\\Python\\Python39\\lib\\site-packages\\tqdm\\auto.py:21: TqdmWarning: IProgress not found. Please update jupyter and ipywidgets. See https://ipywidgets.readthedocs.io/en/stable/user_install.html\n",
      "  from .autonotebook import tqdm as notebook_tqdm\n"
     ]
    },
    {
     "name": "stdout",
     "output_type": "stream",
     "text": [
      "\n"
     ]
    }
   ],
   "source": [
    "import spacy\n",
    "\n",
    "nlp = spacy.load(\"en_core_web_lg\")\n",
    "\n",
    "file = open(\"demo.txt\")\n",
    "\n",
    "input_text = file.read()\n",
    "\n",
    "\n",
    "punctuation = [\",\", \".\", \":\", \";\", \"/\", \"(\", \")\"]\n",
    "\n",
    "def italicize_entities(input_text):\n",
    "    filter_generator = filter(lambda x: x.isalnum() or x.isspace() or x in punctuation, input_text)\n",
    "\n",
    "    clean_input = \"\".join(filter_generator)\n",
    "\n",
    "    doc = nlp(clean_input)\n",
    "\n",
    "    for ent in doc.ents:\n",
    "        #print(ent.text, ent.start_char, ent.end_char, ent.label_)\n",
    "\n",
    "        clean_input = clean_input.replace((\" \" + ent.text + \" \") or (\"(\" + ent.text + \")\"), \" --\"+ent.text+\"-- \")  \n",
    "        # Use the --  -- enclosing symbols to denote italics for now\n",
    "        \n",
    "    return doc, clean_input\n",
    "\n",
    "clean_doc, clean_output = italicize_entities(input_text)\n",
    "print(clean_output)\n",
    "\n"
   ]
  },
  {
   "cell_type": "code",
   "execution_count": 2,
   "id": "bbc7b9a8",
   "metadata": {},
   "outputs": [
    {
     "name": "stderr",
     "output_type": "stream",
     "text": [
      "c:\\Users\\The-M-Factor\\AppData\\Local\\Programs\\Python\\Python39\\lib\\site-packages\\spacy\\displacy\\__init__.py:213: UserWarning: [W006] No entities to visualize found in Doc object. If this is surprising to you, make sure the Doc was processed using a model that supports named entity recognition, and check the `doc.ents` property manually if necessary.\n",
      "  warnings.warn(Warnings.W006)\n"
     ]
    },
    {
     "data": {
      "text/html": [
       "<span class=\"tex2jax_ignore\"><div class=\"entities\" style=\"line-height: 2.5; direction: ltr\"></div></span>"
      ],
      "text/plain": [
       "<IPython.core.display.HTML object>"
      ]
     },
     "metadata": {},
     "output_type": "display_data"
    }
   ],
   "source": [
    "from spacy import displacy \n",
    "\n",
    "displacy.render(clean_doc,style='ent',jupyter=True)\n"
   ]
  },
  {
   "cell_type": "markdown",
   "id": "aa4be52c",
   "metadata": {},
   "source": [
    "### Notes\n",
    "\n",
    "* figure out why terms within brackets are often not being detected\n",
    "* any better way to choose which words are italicized? Named entities are not always accurate, even with large models."
   ]
  },
  {
   "cell_type": "code",
   "execution_count": null,
   "id": "5e7d0672",
   "metadata": {},
   "outputs": [],
   "source": []
  }
 ],
 "metadata": {
  "kernelspec": {
   "display_name": "Python 3 (ipykernel)",
   "language": "python",
   "name": "python3"
  },
  "language_info": {
   "codemirror_mode": {
    "name": "ipython",
    "version": 3
   },
   "file_extension": ".py",
   "mimetype": "text/x-python",
   "name": "python",
   "nbconvert_exporter": "python",
   "pygments_lexer": "ipython3",
   "version": "3.9.4"
  }
 },
 "nbformat": 4,
 "nbformat_minor": 5
}
