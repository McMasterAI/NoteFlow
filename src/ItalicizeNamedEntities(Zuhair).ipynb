{
 "cells": [
  {
   "cell_type": "code",
   "execution_count": 34,
   "id": "b2d421a6",
   "metadata": {
    "scrolled": false
   },
   "outputs": [
    {
     "name": "stdout",
     "output_type": "stream",
     "text": [
      " --Classical-- conditioning is often called --Pavlovian-- conditioning\n",
      "     Pavlov noticed that dogs began salivating in the absence of food stimuli â but just prior to the arrival of the food\n",
      "     The dogs would begin salivating in response to the sound of the metronome, before even seeing the food â this is because they realized this sound meant food was on the way.\n",
      " When an organism learns the association between a signal and an event, a contingent relationship is formed between the signal and the event\n",
      " Definition of contingency:\n",
      "     When --one-- event reliably predicts another and leads to the formation of an association between the events\n",
      "     E.g. an antelope that is grazing cannot begin to flee a predator only when it spots the predator â by that point it is too late. Therefore the antelope learns associations e.g. sounds and smells that reliably predict the presence of a predator and responds to those cues instead.\n",
      " --Classical-- conditioning:\n",
      "     the learning of a contingency between a particular signal and a later event that are paired in time and/or space\n",
      "\n",
      " Components of --Classical-- Conditioning\n",
      "\n",
      " --Unconditioned-- stimulus (US):\n",
      "     Any stimulus or event that triggers a response naturally, requiring no training / learning\n",
      " --Unconditioned-- response (UR):\n",
      "     The response that occurs as a result of the unconditioned stimulus\n",
      "     Typically biologically programmed (requires no learning)\n",
      " Conditioned stimulus (CS):\n",
      "     paired with the unconditioned stimulus to form a contingency\n",
      "     e.g. the sound of a metronome for --Pavlovâs-- dogs (contingency with food)\n",
      " The conditioned stimulus typically appears before the unconditioned stimulus appears. As a result, the conditioned stimulus acts as a predictor for the unconditioned stimulus.\n",
      "     may take several trials\n",
      "     the organism will eventually learn the contingent relationship\n",
      " Conditioned response (CR):\n",
      "     the response that occurs once the contingency between the --CS-- and --US-- has been learned.\n",
      "     e.g. conditioned stimulus is the metronome and conditioned response is salivation.\n",
      " Acquisition:\n",
      "     the process by which a contingency between a --CS-- and --US-- is learned.\n"
     ]
    }
   ],
   "source": [
    "import spacy\n",
    "\n",
    "nlp = spacy.load(\"en_core_web_lg\")\n",
    "\n",
    "file = open(\"text.txt\")\n",
    "\n",
    "input_text = file.read()\n",
    "\n",
    "\n",
    "punctuation = [\",\", \".\", \":\", \";\", \"/\", \"(\", \")\"]\n",
    "\n",
    "def italicize_entities(input_text):\n",
    "    filter_generator = filter(lambda x: x.isalnum() or x.isspace() or x in punctuation, input_text)\n",
    "\n",
    "    clean_input = \"\".join(filter_generator)\n",
    "\n",
    "    doc = nlp(clean_input)\n",
    "\n",
    "    for ent in doc.ents:\n",
    "        #print(ent.text, ent.start_char, ent.end_char, ent.label_)\n",
    "\n",
    "        clean_input = clean_input.replace((\" \" + ent.text + \" \") or (\"(\" + ent.text + \")\"), \" --\"+ent.text+\"-- \")  \n",
    "        # Use the --  -- enclosing symbols to denote italics for now\n",
    "        \n",
    "    return doc, clean_input\n",
    "\n",
    "clean_doc, clean_output = italicize_entities(input_text)\n",
    "print(clean_output)\n",
    "\n"
   ]
  },
  {
   "cell_type": "code",
   "execution_count": 29,
   "id": "bbc7b9a8",
   "metadata": {},
   "outputs": [
    {
     "data": {
      "text/html": [
       "<span class=\"tex2jax_ignore\"><div class=\"entities\" style=\"line-height: 2.5; direction: ltr\"> \n",
       "<mark class=\"entity\" style=\"background: #7aecec; padding: 0.45em 0.6em; margin: 0 0.25em; line-height: 1; border-radius: 0.35em;\">\n",
       "    Classical\n",
       "    <span style=\"font-size: 0.8em; font-weight: bold; line-height: 1; border-radius: 0.35em; vertical-align: middle; margin-left: 0.5rem\">ORG</span>\n",
       "</mark>\n",
       " conditioning is often called \n",
       "<mark class=\"entity\" style=\"background: #c887fb; padding: 0.45em 0.6em; margin: 0 0.25em; line-height: 1; border-radius: 0.35em;\">\n",
       "    Pavlovian\n",
       "    <span style=\"font-size: 0.8em; font-weight: bold; line-height: 1; border-radius: 0.35em; vertical-align: middle; margin-left: 0.5rem\">NORP</span>\n",
       "</mark>\n",
       " conditioning<br>     Pavlov noticed that dogs began salivating in the absence of food stimuli  but just prior to the arrival of the food<br>     The dogs would begin salivating in response to the sound of the metronome, before even seeing the food  this is because they realized this sound meant food was on the way.<br> When an organism learns the association between a signal and an event, a contingent relationship is formed between the signal and the event<br> Definition of contingency:<br>     When \n",
       "<mark class=\"entity\" style=\"background: #e4e7d2; padding: 0.45em 0.6em; margin: 0 0.25em; line-height: 1; border-radius: 0.35em;\">\n",
       "    one\n",
       "    <span style=\"font-size: 0.8em; font-weight: bold; line-height: 1; border-radius: 0.35em; vertical-align: middle; margin-left: 0.5rem\">CARDINAL</span>\n",
       "</mark>\n",
       " event reliably predicts another and leads to the formation of an association between the events<br>     E.g. an antelope that is grazing cannot begin to flee a predator only when it spots the predator  by that point it is too late. Therefore the antelope learns associations e.g. sounds and smells that reliably predict the presence of a predator and responds to those cues instead.<br> Classical conditioning:<br>     the learning of a contingency between a particular signal and a later event that are paired in time and/or space<br><br> Components of Classical Conditioning<br><br> Unconditioned stimulus (\n",
       "<mark class=\"entity\" style=\"background: #feca74; padding: 0.45em 0.6em; margin: 0 0.25em; line-height: 1; border-radius: 0.35em;\">\n",
       "    US\n",
       "    <span style=\"font-size: 0.8em; font-weight: bold; line-height: 1; border-radius: 0.35em; vertical-align: middle; margin-left: 0.5rem\">GPE</span>\n",
       "</mark>\n",
       "):<br>     Any stimulus or event that triggers a response naturally, requiring no training / learning<br> \n",
       "<mark class=\"entity\" style=\"background: #aa9cfc; padding: 0.45em 0.6em; margin: 0 0.25em; line-height: 1; border-radius: 0.35em;\">\n",
       "    Unconditioned\n",
       "    <span style=\"font-size: 0.8em; font-weight: bold; line-height: 1; border-radius: 0.35em; vertical-align: middle; margin-left: 0.5rem\">PERSON</span>\n",
       "</mark>\n",
       " response (UR):<br>     The response that occurs as a result of the unconditioned stimulus<br>     Typically biologically programmed (requires no learning)<br> Conditioned stimulus (CS):<br>     paired with the unconditioned stimulus to form a contingency<br>     e.g. the sound of a metronome for Pavlovs dogs (contingency with food)<br> The conditioned stimulus typically appears before the unconditioned stimulus appears. As a result, the conditioned stimulus acts as a predictor for the unconditioned stimulus.<br>     may take several trials<br>     the organism will eventually learn the contingent relationship<br> Conditioned response (CR):<br>     the response that occurs once the contingency between the \n",
       "<mark class=\"entity\" style=\"background: #bfeeb7; padding: 0.45em 0.6em; margin: 0 0.25em; line-height: 1; border-radius: 0.35em;\">\n",
       "    CS\n",
       "    <span style=\"font-size: 0.8em; font-weight: bold; line-height: 1; border-radius: 0.35em; vertical-align: middle; margin-left: 0.5rem\">PRODUCT</span>\n",
       "</mark>\n",
       " and \n",
       "<mark class=\"entity\" style=\"background: #feca74; padding: 0.45em 0.6em; margin: 0 0.25em; line-height: 1; border-radius: 0.35em;\">\n",
       "    US\n",
       "    <span style=\"font-size: 0.8em; font-weight: bold; line-height: 1; border-radius: 0.35em; vertical-align: middle; margin-left: 0.5rem\">GPE</span>\n",
       "</mark>\n",
       " has been learned.<br>     e.g. conditioned stimulus is the metronome and conditioned response is salivation.<br> Acquisition:<br>     the process by which a contingency between a \n",
       "<mark class=\"entity\" style=\"background: #feca74; padding: 0.45em 0.6em; margin: 0 0.25em; line-height: 1; border-radius: 0.35em;\">\n",
       "    CS\n",
       "    <span style=\"font-size: 0.8em; font-weight: bold; line-height: 1; border-radius: 0.35em; vertical-align: middle; margin-left: 0.5rem\">GPE</span>\n",
       "</mark>\n",
       " and \n",
       "<mark class=\"entity\" style=\"background: #feca74; padding: 0.45em 0.6em; margin: 0 0.25em; line-height: 1; border-radius: 0.35em;\">\n",
       "    US\n",
       "    <span style=\"font-size: 0.8em; font-weight: bold; line-height: 1; border-radius: 0.35em; vertical-align: middle; margin-left: 0.5rem\">GPE</span>\n",
       "</mark>\n",
       " is learned.</div></span>"
      ],
      "text/plain": [
       "<IPython.core.display.HTML object>"
      ]
     },
     "metadata": {},
     "output_type": "display_data"
    }
   ],
   "source": [
    "from spacy import displacy \n",
    "\n",
    "displacy.render(clean_doc,style='ent',jupyter=True)\n"
   ]
  },
  {
   "cell_type": "markdown",
   "id": "aa4be52c",
   "metadata": {},
   "source": [
    "### Notes\n",
    "\n",
    "* figure out why terms within brackets are often not being detected\n",
    "* any better way to choose which words are italicized? Named entities are not always accurate, even with large models."
   ]
  },
  {
   "cell_type": "code",
   "execution_count": null,
   "id": "5e7d0672",
   "metadata": {},
   "outputs": [],
   "source": []
  }
 ],
 "metadata": {
  "kernelspec": {
   "display_name": "Python 3 (ipykernel)",
   "language": "python",
   "name": "python3"
  },
  "language_info": {
   "codemirror_mode": {
    "name": "ipython",
    "version": 3
   },
   "file_extension": ".py",
   "mimetype": "text/x-python",
   "name": "python",
   "nbconvert_exporter": "python",
   "pygments_lexer": "ipython3",
   "version": "3.10.9"
  }
 },
 "nbformat": 4,
 "nbformat_minor": 5
}
